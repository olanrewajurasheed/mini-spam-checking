{
 "cells": [
  {
   "cell_type": "code",
   "execution_count": 3,
   "metadata": {},
   "outputs": [],
   "source": [
    "spam = ['100% more', '100% free', 'additional income',\n",
    "       'be your own boss', 'best price', 'big bucks', 'big bucks',\n",
    "        'billion', 'cash bonus', 'cents on the dollar', 'consolidate debt',\n",
    "        'double your cash', 'double your income', 'earn extra cash', 'earn money',\n",
    "        'eliminate bad credit', 'extra cash', 'extra income', 'expect to earn', 'fast cash',\n",
    "        'financial freedom', 'free gift', 'free hosting', 'free gift', 'free investment', \n",
    "        'free membership', 'free money', 'free preview', 'full refund', 'get paid', 'giveaway',\n",
    "        'money back', 'risk free', 'pure profit', 'special promotion', 'potential earnings', \n",
    "        'million dollars', 'lowest price', 'lower rates', 'guaranteed', 'satisfaction guaranteed'] "
   ]
  },
  {
   "cell_type": "code",
   "execution_count": 19,
   "metadata": {},
   "outputs": [
    {
     "name": "stdout",
     "output_type": "stream",
     "text": [
      "Write your mail: I'm writing you from one investment concept Ltd. A platform for Risk Free, Free Money and full refund platform where success is guaranteed\n",
      "\n",
      "\n",
      "The spam words detected are:\n",
      "FREE MONEY\n",
      "FULL REFUND\n",
      "GUARANTEED\n",
      "RISK FREE\n",
      "REMARK: This mail is highly suspicious. Spam detected\n"
     ]
    }
   ],
   "source": [
    "mail = input('Write your mail: ')\n",
    "\n",
    "spam_count = {}\n",
    "for word in spam:\n",
    "    if word in mail.lower():\n",
    "        spam_count[word] = 1\n",
    "        \n",
    "        \n",
    "print('\\n')\n",
    "print(f'The spam words detected are:')        \n",
    "for key, value in sorted(spam_count.items()):\n",
    "    print(f'{key.upper()}')\n",
    "    \n",
    "        \n",
    "if len(spam_count) <= 0:\n",
    "    print('REMARK: The mail is Spam Free')\n",
    "elif len(spam_count) == 1:\n",
    "    print('REMARK: Verify before you take action!')\n",
    "else:\n",
    "    print(\"REMARK: This mail is highly suspicious. Spam detected\")        \n",
    "       "
   ]
  },
  {
   "cell_type": "code",
   "execution_count": null,
   "metadata": {},
   "outputs": [],
   "source": []
  }
 ],
 "metadata": {
  "celltoolbar": "Raw Cell Format",
  "kernelspec": {
   "display_name": "Python 3",
   "language": "python",
   "name": "python3"
  },
  "language_info": {
   "codemirror_mode": {
    "name": "ipython",
    "version": 3
   },
   "file_extension": ".py",
   "mimetype": "text/x-python",
   "name": "python",
   "nbconvert_exporter": "python",
   "pygments_lexer": "ipython3",
   "version": "3.7.6"
  }
 },
 "nbformat": 4,
 "nbformat_minor": 4
}
